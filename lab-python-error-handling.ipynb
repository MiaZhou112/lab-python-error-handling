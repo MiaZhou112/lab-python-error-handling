{
 "cells": [
  {
   "cell_type": "markdown",
   "id": "25d7736c-ba17-4aff-b6bb-66eba20fbf4e",
   "metadata": {},
   "source": [
    "# Lab | Final Deliverable"
   ]
  },
  {
   "cell_type": "code",
   "execution_count": 19,
   "id": "123dc122-6004-4df7-ae5a-0ad4f8231034",
   "metadata": {},
   "outputs": [],
   "source": [
    "# import libarary\n",
    "\n",
    "from functools import reduce\n"
   ]
  },
  {
   "cell_type": "code",
   "execution_count": 20,
   "id": "00f3e9ad-3228-4bf2-b321-336abf7da8c6",
   "metadata": {},
   "outputs": [],
   "source": [
    "# initializing the inventory dictionary\n",
    "\n",
    "def initialize_inventory(products):   \n",
    "    '''\n",
    "    take a product list as parameter\n",
    "    ask user input of product quantity\n",
    "    return a inventory dictionary and a message to show customers what products we currently have\n",
    "    '''\n",
    "    inventory = {}\n",
    "    for p in products:\n",
    "        valid_quantity = False\n",
    "        while not valid_quantity:\n",
    "            try:\n",
    "                quantity = int(input(f\"Enter the quantity of {p}s available: \"))\n",
    "                if quantity < 0:\n",
    "                    raise ValueError (\"Invalid quantity! Please enter a non-negative value.\")\n",
    "                valid_quantity = True\n",
    "            except ValueError as e:\n",
    "                print(f\"Error :{e}\")\n",
    "            else:\n",
    "                inventory[p]= quantity\n",
    "    return inventory\n",
    "        \n",
    "            "
   ]
  },
  {
   "cell_type": "code",
   "execution_count": 21,
   "id": "f9e0d5d6-9805-4403-89a2-78b3052dda4e",
   "metadata": {},
   "outputs": [],
   "source": [
    "# create a customer order set\n",
    "\n",
    "def get_customer_orders(inventory):\n",
    "    '''\n",
    "    take no arguments\n",
    "    prompting the user to enter the product names\n",
    "    return a customer orders set \n",
    "    '''\n",
    "    customer_orders = set()\n",
    "\n",
    "    invalid_number = False\n",
    "    while not invalid_number:\n",
    "        try:\n",
    "            number_of_products = int(input(\"Please type the number of products you want to order:\"))\n",
    "            assert number_of_products > 0\n",
    "            invalid_number = True\n",
    "        except AssertionError:\n",
    "            print(\"The number of products must be above 0!\")\n",
    "        except ValueError as e:\n",
    "            print(f\"Error is {e}!\")\n",
    "        \n",
    "    for i in range(number_of_products):\n",
    "        invalid_product_name = False\n",
    "        while not invalid_product_name:\n",
    "            try:\n",
    "                product = input(\"\\nEnter product name: \")\n",
    "                if product not in inventory.keys():\n",
    "                    raise KeyError (\"Product doesnot exist in our inventory!\")\n",
    "                invalid_product_name = True\n",
    "            except KeyError as e:\n",
    "                print(e)\n",
    "            else:\n",
    "                customer_orders.add(product)\n",
    "                \n",
    "    return customer_orders          \n",
    "    "
   ]
  },
  {
   "cell_type": "code",
   "execution_count": 22,
   "id": "3d196d38-cbb2-4ea8-9cb9-0499b33f27be",
   "metadata": {},
   "outputs": [],
   "source": [
    "\n",
    "def calculate_total_price(customer_orders):\n",
    "    '''\n",
    "    takes customer orders set parameter\n",
    "    calculate the total price of customer orders\n",
    "    print out a message\n",
    "    '''\n",
    "    prices = []\n",
    "    for i in customer_orders:    \n",
    "        invalid_price = False\n",
    "        while not invalid_price:\n",
    "            try:\n",
    "                price = int(input(f\"Please enter the price of product {i}\"))\n",
    "                if price < 0:\n",
    "                    raise ValueError (\"Price must be above 0!\")\n",
    "                invalid_price = True\n",
    "            except ValueError as e:\n",
    "                print(f\"Error is:{e}\")\n",
    "            else:\n",
    "                prices.append(price)\n",
    "    total_price = sum(prices)           \n",
    "    print(\"total price is\", total_price)\n",
    "  "
   ]
  },
  {
   "cell_type": "code",
   "execution_count": 23,
   "id": "16e4a719-f046-48dc-9083-62746e705ed1",
   "metadata": {},
   "outputs": [],
   "source": [
    "# create updated inventory \n",
    "\n",
    "def update_inventory(customer_orders, inventory):\n",
    "    '''\n",
    "    takes customer orders, initial inventory as parameters,\n",
    "    update inventory based on customer order\n",
    "    '''\n",
    "    inventory = {k: (v-1 if k in customer_orders else v)  for k,v in inventory.items()}  # create a new inventory dictionary\n",
    "\n",
    "    available_inventory = { k: v for k,v in inventory.items() if v>0}                \n",
    "    print(\"\\navailable inventory is :\", available_inventory)\n",
    "    \n",
    "    return inventory"
   ]
  },
  {
   "cell_type": "code",
   "execution_count": 24,
   "id": "8cf10e0b-28a2-4949-8af9-9e38f1e7bd05",
   "metadata": {},
   "outputs": [],
   "source": [
    "\n",
    "def calculate_order_statstics (customer_orders, products):\n",
    "    '''\n",
    "    takes customer order set and product list as parameters\n",
    "    calculate the total products ordered and percentage of products ordered\n",
    "    return their values\n",
    "    '''\n",
    "    total_products_ordered = len(customer_orders)\n",
    "    percentage_of_products_ordered = total_products_ordered/len(products)*100\n",
    "    return total_products_ordered,percentage_of_products_ordered  # tuple\n"
   ]
  },
  {
   "cell_type": "code",
   "execution_count": 25,
   "id": "e8617fc7-b42b-4e65-9a93-b0d5008761a1",
   "metadata": {},
   "outputs": [],
   "source": [
    "\n",
    "def print_order_statistics(order_statistics):\n",
    "    '''\n",
    "    takes order statistics tuple as parameter\n",
    "    return a message to show values \n",
    "    '''    \n",
    "    print(\"\\nThe total number of unique products customer ordered is: \", order_statistics[0])\n",
    "    print(\"\\nThe percentage of products ordered is: \", order_statistics[1])\n",
    "\n",
    "    "
   ]
  },
  {
   "cell_type": "code",
   "execution_count": 26,
   "id": "63791294-4df5-4bcb-a276-841efa4c76ac",
   "metadata": {},
   "outputs": [],
   "source": [
    "\n",
    "def print_updated_inventory(updated_inventory):  \n",
    "    '''\n",
    "    takes inventory dictionary as parameter\n",
    "    print out updated inventory\n",
    "    '''\n",
    "    print(\"\\nUpdated Inventory as follows:\")\n",
    "    \n",
    "    for k,v in inventory.items():\n",
    "        print(k,\" \",v)"
   ]
  },
  {
   "cell_type": "code",
   "execution_count": 27,
   "id": "5c74cb2a-3257-4e9e-a7f6-d800f0f5cc7f",
   "metadata": {},
   "outputs": [
    {
     "name": "stdin",
     "output_type": "stream",
     "text": [
      "Enter the quantity of t-shirts available:  3\n",
      "Enter the quantity of mugs available:  3\n",
      "Enter the quantity of hats available:  3\n",
      "Enter the quantity of books available:  3\n",
      "Enter the quantity of keychains available:  3\n",
      "Please type the number of products you want to order: 2\n",
      "\n",
      "Enter product name:  mug\n",
      "\n",
      "Enter product name:  hat\n",
      "Please enter the price of product hat 10\n",
      "Please enter the price of product mug 20\n"
     ]
    },
    {
     "name": "stdout",
     "output_type": "stream",
     "text": [
      "total price is 30\n",
      "\n",
      "The total number of unique products customer ordered is:  2\n",
      "\n",
      "The percentage of products ordered is:  40.0\n",
      "\n",
      "available inventory is : {'t-shirt': 3, 'mug': 2, 'hat': 2, 'book': 3, 'keychain': 3}\n",
      "\n",
      "Updated Inventory as follows:\n",
      "t-shirt   3\n",
      "mug   2\n",
      "hat   2\n",
      "book   3\n",
      "keychain   3\n"
     ]
    }
   ],
   "source": [
    "products = [\"t-shirt\", \"mug\", \"hat\", \"book\", \"keychain\"]\n",
    "\n",
    "inventory = initialize_inventory(products)\n",
    "customer_orders = get_customer_orders(inventory)\n",
    "calculate_total_price(customer_orders)\n",
    "\n",
    "order_statistics = calculate_order_statstics(customer_orders,products) \n",
    "print_order_statistics(order_statistics)\n",
    "\n",
    "inventory = update_inventory(customer_orders,inventory)\n",
    "print_updated_inventory(inventory)"
   ]
  },
  {
   "cell_type": "code",
   "execution_count": null,
   "id": "d275ecd6-2ed0-43d6-b197-0ff59e42eff5",
   "metadata": {},
   "outputs": [],
   "source": []
  },
  {
   "cell_type": "code",
   "execution_count": null,
   "id": "d1d81c55-02b1-4622-92bb-5a26a81bf6e3",
   "metadata": {},
   "outputs": [],
   "source": []
  },
  {
   "cell_type": "code",
   "execution_count": null,
   "id": "e49b9fe6-8453-4ee2-b083-7da52360e22d",
   "metadata": {},
   "outputs": [],
   "source": []
  },
  {
   "cell_type": "code",
   "execution_count": null,
   "id": "1cd9625e-a409-4d16-8f62-a14363f58c62",
   "metadata": {},
   "outputs": [],
   "source": []
  }
 ],
 "metadata": {
  "kernelspec": {
   "display_name": "Python 3 (ipykernel)",
   "language": "python",
   "name": "python3"
  },
  "language_info": {
   "codemirror_mode": {
    "name": "ipython",
    "version": 3
   },
   "file_extension": ".py",
   "mimetype": "text/x-python",
   "name": "python",
   "nbconvert_exporter": "python",
   "pygments_lexer": "ipython3",
   "version": "3.10.10"
  }
 },
 "nbformat": 4,
 "nbformat_minor": 5
}
